{
 "cells": [
  {
   "cell_type": "code",
   "execution_count": 4,
   "id": "4bf60d1a",
   "metadata": {},
   "outputs": [
    {
     "data": {
      "text/html": [
       "<div>\n",
       "<style scoped>\n",
       "    .dataframe tbody tr th:only-of-type {\n",
       "        vertical-align: middle;\n",
       "    }\n",
       "\n",
       "    .dataframe tbody tr th {\n",
       "        vertical-align: top;\n",
       "    }\n",
       "\n",
       "    .dataframe thead th {\n",
       "        text-align: right;\n",
       "    }\n",
       "</style>\n",
       "<table border=\"1\" class=\"dataframe\">\n",
       "  <thead>\n",
       "    <tr style=\"text-align: right;\">\n",
       "      <th></th>\n",
       "      <th>brand_id</th>\n",
       "      <th>brand_name</th>\n",
       "      <th>extract_time</th>\n",
       "      <th>source</th>\n",
       "    </tr>\n",
       "  </thead>\n",
       "  <tbody>\n",
       "    <tr>\n",
       "      <th>0</th>\n",
       "      <td>1</td>\n",
       "      <td>Electra</td>\n",
       "      <td>2024-04-28 19:18:55.832586</td>\n",
       "      <td>datalake</td>\n",
       "    </tr>\n",
       "    <tr>\n",
       "      <th>1</th>\n",
       "      <td>2</td>\n",
       "      <td>Haro</td>\n",
       "      <td>2024-04-28 19:18:55.832586</td>\n",
       "      <td>datalake</td>\n",
       "    </tr>\n",
       "    <tr>\n",
       "      <th>2</th>\n",
       "      <td>3</td>\n",
       "      <td>Heller</td>\n",
       "      <td>2024-04-28 19:18:55.832586</td>\n",
       "      <td>datalake</td>\n",
       "    </tr>\n",
       "    <tr>\n",
       "      <th>3</th>\n",
       "      <td>4</td>\n",
       "      <td>Pure Cycles</td>\n",
       "      <td>2024-04-28 19:18:55.832586</td>\n",
       "      <td>datalake</td>\n",
       "    </tr>\n",
       "    <tr>\n",
       "      <th>4</th>\n",
       "      <td>5</td>\n",
       "      <td>Ritchey</td>\n",
       "      <td>2024-04-28 19:18:55.832586</td>\n",
       "      <td>datalake</td>\n",
       "    </tr>\n",
       "    <tr>\n",
       "      <th>5</th>\n",
       "      <td>6</td>\n",
       "      <td>Strider</td>\n",
       "      <td>2024-04-28 19:18:55.832586</td>\n",
       "      <td>datalake</td>\n",
       "    </tr>\n",
       "    <tr>\n",
       "      <th>6</th>\n",
       "      <td>7</td>\n",
       "      <td>Sun Bicycles</td>\n",
       "      <td>2024-04-28 19:18:55.832586</td>\n",
       "      <td>datalake</td>\n",
       "    </tr>\n",
       "    <tr>\n",
       "      <th>7</th>\n",
       "      <td>8</td>\n",
       "      <td>Surly</td>\n",
       "      <td>2024-04-28 19:18:55.832586</td>\n",
       "      <td>datalake</td>\n",
       "    </tr>\n",
       "    <tr>\n",
       "      <th>8</th>\n",
       "      <td>9</td>\n",
       "      <td>Trek</td>\n",
       "      <td>2024-04-28 19:18:55.832586</td>\n",
       "      <td>datalake</td>\n",
       "    </tr>\n",
       "  </tbody>\n",
       "</table>\n",
       "</div>"
      ],
      "text/plain": [
       "   brand_id    brand_name                extract_time    source\n",
       "0         1       Electra  2024-04-28 19:18:55.832586  datalake\n",
       "1         2          Haro  2024-04-28 19:18:55.832586  datalake\n",
       "2         3        Heller  2024-04-28 19:18:55.832586  datalake\n",
       "3         4   Pure Cycles  2024-04-28 19:18:55.832586  datalake\n",
       "4         5       Ritchey  2024-04-28 19:18:55.832586  datalake\n",
       "5         6       Strider  2024-04-28 19:18:55.832586  datalake\n",
       "6         7  Sun Bicycles  2024-04-28 19:18:55.832586  datalake\n",
       "7         8         Surly  2024-04-28 19:18:55.832586  datalake\n",
       "8         9          Trek  2024-04-28 19:18:55.832586  datalake"
      ]
     },
     "execution_count": 4,
     "metadata": {},
     "output_type": "execute_result"
    }
   ],
   "source": [
    "import pandas as pd\n",
    "brands_df = pd.read_csv('../Landing/brands/brands.csv')\n",
    "brands_df"
   ]
  },
  {
   "cell_type": "code",
   "execution_count": 5,
   "id": "6d9de284",
   "metadata": {},
   "outputs": [
    {
     "data": {
      "text/plain": [
       "brand_id        0\n",
       "brand_name      0\n",
       "extract_time    0\n",
       "source          0\n",
       "dtype: int64"
      ]
     },
     "execution_count": 5,
     "metadata": {},
     "output_type": "execute_result"
    }
   ],
   "source": [
    "#check nulls\n",
    "brands_df.isnull().sum()"
   ]
  },
  {
   "cell_type": "code",
   "execution_count": 6,
   "id": "1d5b72e6",
   "metadata": {},
   "outputs": [
    {
     "data": {
      "text/plain": [
       "0    False\n",
       "1    False\n",
       "2    False\n",
       "3    False\n",
       "4    False\n",
       "5    False\n",
       "6    False\n",
       "7    False\n",
       "8    False\n",
       "dtype: bool"
      ]
     },
     "execution_count": 6,
     "metadata": {},
     "output_type": "execute_result"
    }
   ],
   "source": [
    "#check dublicates\n",
    "duplicates = brands_df.duplicated()\n",
    "duplicates"
   ]
  },
  {
   "cell_type": "code",
   "execution_count": 7,
   "id": "81ff60b3",
   "metadata": {},
   "outputs": [],
   "source": [
    "brands_df.to_csv('../Staging/brands/brands.csv',index=False)"
   ]
  },
  {
   "cell_type": "code",
   "execution_count": null,
   "id": "85b6a73e",
   "metadata": {},
   "outputs": [],
   "source": []
  }
 ],
 "metadata": {
  "kernelspec": {
   "display_name": "Python 3 (ipykernel)",
   "language": "python",
   "name": "python3"
  },
  "language_info": {
   "codemirror_mode": {
    "name": "ipython",
    "version": 3
   },
   "file_extension": ".py",
   "mimetype": "text/x-python",
   "name": "python",
   "nbconvert_exporter": "python",
   "pygments_lexer": "ipython3",
   "version": "3.9.12"
  }
 },
 "nbformat": 4,
 "nbformat_minor": 5
}
