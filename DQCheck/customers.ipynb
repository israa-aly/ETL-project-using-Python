{
 "cells": [
  {
   "cell_type": "code",
   "execution_count": 1,
   "id": "90e1305f",
   "metadata": {},
   "outputs": [
    {
     "data": {
      "text/html": [
       "<div>\n",
       "<style scoped>\n",
       "    .dataframe tbody tr th:only-of-type {\n",
       "        vertical-align: middle;\n",
       "    }\n",
       "\n",
       "    .dataframe tbody tr th {\n",
       "        vertical-align: top;\n",
       "    }\n",
       "\n",
       "    .dataframe thead th {\n",
       "        text-align: right;\n",
       "    }\n",
       "</style>\n",
       "<table border=\"1\" class=\"dataframe\">\n",
       "  <thead>\n",
       "    <tr style=\"text-align: right;\">\n",
       "      <th></th>\n",
       "      <th>customer_id</th>\n",
       "      <th>first_name</th>\n",
       "      <th>last_name</th>\n",
       "      <th>phone</th>\n",
       "      <th>email</th>\n",
       "      <th>street</th>\n",
       "      <th>city</th>\n",
       "      <th>state</th>\n",
       "      <th>zip_code</th>\n",
       "      <th>extract_time</th>\n",
       "      <th>source</th>\n",
       "    </tr>\n",
       "  </thead>\n",
       "  <tbody>\n",
       "    <tr>\n",
       "      <th>0</th>\n",
       "      <td>1</td>\n",
       "      <td>Debra</td>\n",
       "      <td>Burks</td>\n",
       "      <td>NaN</td>\n",
       "      <td>debra.burks@yahoo.com</td>\n",
       "      <td>9273 Thorne Ave.</td>\n",
       "      <td>Orchard Park</td>\n",
       "      <td>NY</td>\n",
       "      <td>14127</td>\n",
       "      <td>2024-04-28 19:23:08.863341</td>\n",
       "      <td>datalake</td>\n",
       "    </tr>\n",
       "    <tr>\n",
       "      <th>1</th>\n",
       "      <td>2</td>\n",
       "      <td>Kasha</td>\n",
       "      <td>Todd</td>\n",
       "      <td>NaN</td>\n",
       "      <td>kasha.todd@yahoo.com</td>\n",
       "      <td>910 Vine Street</td>\n",
       "      <td>Campbell</td>\n",
       "      <td>CA</td>\n",
       "      <td>95008</td>\n",
       "      <td>2024-04-28 19:23:08.863341</td>\n",
       "      <td>datalake</td>\n",
       "    </tr>\n",
       "    <tr>\n",
       "      <th>2</th>\n",
       "      <td>3</td>\n",
       "      <td>Tameka</td>\n",
       "      <td>Fisher</td>\n",
       "      <td>NaN</td>\n",
       "      <td>tameka.fisher@aol.com</td>\n",
       "      <td>769C Honey Creek St.</td>\n",
       "      <td>Redondo Beach</td>\n",
       "      <td>CA</td>\n",
       "      <td>90278</td>\n",
       "      <td>2024-04-28 19:23:08.863341</td>\n",
       "      <td>datalake</td>\n",
       "    </tr>\n",
       "    <tr>\n",
       "      <th>3</th>\n",
       "      <td>4</td>\n",
       "      <td>Daryl</td>\n",
       "      <td>Spence</td>\n",
       "      <td>NaN</td>\n",
       "      <td>daryl.spence@aol.com</td>\n",
       "      <td>988 Pearl Lane</td>\n",
       "      <td>Uniondale</td>\n",
       "      <td>NY</td>\n",
       "      <td>11553</td>\n",
       "      <td>2024-04-28 19:23:08.863341</td>\n",
       "      <td>datalake</td>\n",
       "    </tr>\n",
       "    <tr>\n",
       "      <th>4</th>\n",
       "      <td>5</td>\n",
       "      <td>Charolette</td>\n",
       "      <td>Rice</td>\n",
       "      <td>(916) 381-6003</td>\n",
       "      <td>charolette.rice@msn.com</td>\n",
       "      <td>107 River Dr.</td>\n",
       "      <td>Sacramento</td>\n",
       "      <td>CA</td>\n",
       "      <td>95820</td>\n",
       "      <td>2024-04-28 19:23:08.863341</td>\n",
       "      <td>datalake</td>\n",
       "    </tr>\n",
       "    <tr>\n",
       "      <th>...</th>\n",
       "      <td>...</td>\n",
       "      <td>...</td>\n",
       "      <td>...</td>\n",
       "      <td>...</td>\n",
       "      <td>...</td>\n",
       "      <td>...</td>\n",
       "      <td>...</td>\n",
       "      <td>...</td>\n",
       "      <td>...</td>\n",
       "      <td>...</td>\n",
       "      <td>...</td>\n",
       "    </tr>\n",
       "    <tr>\n",
       "      <th>1440</th>\n",
       "      <td>1441</td>\n",
       "      <td>Jamaal</td>\n",
       "      <td>Morrison</td>\n",
       "      <td>NaN</td>\n",
       "      <td>jamaal.morrison@msn.com</td>\n",
       "      <td>796 SE. Nut Swamp St.</td>\n",
       "      <td>Staten Island</td>\n",
       "      <td>NY</td>\n",
       "      <td>10301</td>\n",
       "      <td>2024-04-28 19:23:08.863341</td>\n",
       "      <td>datalake</td>\n",
       "    </tr>\n",
       "    <tr>\n",
       "      <th>1441</th>\n",
       "      <td>1442</td>\n",
       "      <td>Cassie</td>\n",
       "      <td>Cline</td>\n",
       "      <td>NaN</td>\n",
       "      <td>cassie.cline@gmail.com</td>\n",
       "      <td>947 Lafayette Drive</td>\n",
       "      <td>Brooklyn</td>\n",
       "      <td>NY</td>\n",
       "      <td>11201</td>\n",
       "      <td>2024-04-28 19:23:08.863341</td>\n",
       "      <td>datalake</td>\n",
       "    </tr>\n",
       "    <tr>\n",
       "      <th>1442</th>\n",
       "      <td>1443</td>\n",
       "      <td>Lezlie</td>\n",
       "      <td>Lamb</td>\n",
       "      <td>NaN</td>\n",
       "      <td>lezlie.lamb@gmail.com</td>\n",
       "      <td>401 Brandywine Street</td>\n",
       "      <td>Central Islip</td>\n",
       "      <td>NY</td>\n",
       "      <td>11722</td>\n",
       "      <td>2024-04-28 19:23:08.863341</td>\n",
       "      <td>datalake</td>\n",
       "    </tr>\n",
       "    <tr>\n",
       "      <th>1443</th>\n",
       "      <td>1444</td>\n",
       "      <td>Ivette</td>\n",
       "      <td>Estes</td>\n",
       "      <td>NaN</td>\n",
       "      <td>ivette.estes@gmail.com</td>\n",
       "      <td>88 N. Canterbury Ave.</td>\n",
       "      <td>Canandaigua</td>\n",
       "      <td>NY</td>\n",
       "      <td>14424</td>\n",
       "      <td>2024-04-28 19:23:08.863341</td>\n",
       "      <td>datalake</td>\n",
       "    </tr>\n",
       "    <tr>\n",
       "      <th>1444</th>\n",
       "      <td>1445</td>\n",
       "      <td>Ester</td>\n",
       "      <td>Acevedo</td>\n",
       "      <td>NaN</td>\n",
       "      <td>ester.acevedo@gmail.com</td>\n",
       "      <td>671 Miles Court</td>\n",
       "      <td>San Lorenzo</td>\n",
       "      <td>CA</td>\n",
       "      <td>94580</td>\n",
       "      <td>2024-04-28 19:23:08.863341</td>\n",
       "      <td>datalake</td>\n",
       "    </tr>\n",
       "  </tbody>\n",
       "</table>\n",
       "<p>1445 rows × 11 columns</p>\n",
       "</div>"
      ],
      "text/plain": [
       "      customer_id  first_name last_name           phone  \\\n",
       "0               1       Debra     Burks             NaN   \n",
       "1               2       Kasha      Todd             NaN   \n",
       "2               3      Tameka    Fisher             NaN   \n",
       "3               4       Daryl    Spence             NaN   \n",
       "4               5  Charolette      Rice  (916) 381-6003   \n",
       "...           ...         ...       ...             ...   \n",
       "1440         1441      Jamaal  Morrison             NaN   \n",
       "1441         1442      Cassie     Cline             NaN   \n",
       "1442         1443      Lezlie      Lamb             NaN   \n",
       "1443         1444      Ivette     Estes             NaN   \n",
       "1444         1445       Ester   Acevedo             NaN   \n",
       "\n",
       "                        email                  street           city state  \\\n",
       "0       debra.burks@yahoo.com       9273 Thorne Ave.    Orchard Park    NY   \n",
       "1        kasha.todd@yahoo.com        910 Vine Street        Campbell    CA   \n",
       "2       tameka.fisher@aol.com   769C Honey Creek St.   Redondo Beach    CA   \n",
       "3        daryl.spence@aol.com         988 Pearl Lane       Uniondale    NY   \n",
       "4     charolette.rice@msn.com          107 River Dr.      Sacramento    CA   \n",
       "...                       ...                     ...            ...   ...   \n",
       "1440  jamaal.morrison@msn.com  796 SE. Nut Swamp St.   Staten Island    NY   \n",
       "1441   cassie.cline@gmail.com    947 Lafayette Drive        Brooklyn    NY   \n",
       "1442    lezlie.lamb@gmail.com  401 Brandywine Street   Central Islip    NY   \n",
       "1443   ivette.estes@gmail.com  88 N. Canterbury Ave.     Canandaigua    NY   \n",
       "1444  ester.acevedo@gmail.com        671 Miles Court     San Lorenzo    CA   \n",
       "\n",
       "      zip_code                extract_time    source  \n",
       "0        14127  2024-04-28 19:23:08.863341  datalake  \n",
       "1        95008  2024-04-28 19:23:08.863341  datalake  \n",
       "2        90278  2024-04-28 19:23:08.863341  datalake  \n",
       "3        11553  2024-04-28 19:23:08.863341  datalake  \n",
       "4        95820  2024-04-28 19:23:08.863341  datalake  \n",
       "...        ...                         ...       ...  \n",
       "1440     10301  2024-04-28 19:23:08.863341  datalake  \n",
       "1441     11201  2024-04-28 19:23:08.863341  datalake  \n",
       "1442     11722  2024-04-28 19:23:08.863341  datalake  \n",
       "1443     14424  2024-04-28 19:23:08.863341  datalake  \n",
       "1444     94580  2024-04-28 19:23:08.863341  datalake  \n",
       "\n",
       "[1445 rows x 11 columns]"
      ]
     },
     "execution_count": 1,
     "metadata": {},
     "output_type": "execute_result"
    }
   ],
   "source": [
    "import pandas as pd\n",
    "cust_df = pd.read_csv('../Landing/customers/customers.csv')\n",
    "cust_df"
   ]
  },
  {
   "cell_type": "code",
   "execution_count": 3,
   "id": "dac7c1a4",
   "metadata": {},
   "outputs": [
    {
     "data": {
      "text/plain": [
       "customer_id        0\n",
       "first_name         0\n",
       "last_name          0\n",
       "phone           1267\n",
       "email              0\n",
       "street             0\n",
       "city               0\n",
       "state              0\n",
       "zip_code           0\n",
       "extract_time       0\n",
       "source             0\n",
       "dtype: int64"
      ]
     },
     "execution_count": 3,
     "metadata": {},
     "output_type": "execute_result"
    }
   ],
   "source": [
    "#check nulls\n",
    "cust_df.isnull().sum()"
   ]
  },
  {
   "cell_type": "code",
   "execution_count": 10,
   "id": "f5547a37",
   "metadata": {},
   "outputs": [],
   "source": [
    "cust_df['phone'].fillna('not recorded', inplace=True)"
   ]
  },
  {
   "cell_type": "code",
   "execution_count": 11,
   "id": "0ed0fbd4",
   "metadata": {},
   "outputs": [
    {
     "data": {
      "text/plain": [
       "customer_id     0\n",
       "first_name      0\n",
       "last_name       0\n",
       "phone           0\n",
       "email           0\n",
       "street          0\n",
       "city            0\n",
       "state           0\n",
       "zip_code        0\n",
       "extract_time    0\n",
       "source          0\n",
       "dtype: int64"
      ]
     },
     "execution_count": 11,
     "metadata": {},
     "output_type": "execute_result"
    }
   ],
   "source": [
    "cust_df.isnull().sum()"
   ]
  },
  {
   "cell_type": "code",
   "execution_count": 4,
   "id": "7bbd8e42",
   "metadata": {},
   "outputs": [
    {
     "name": "stdout",
     "output_type": "stream",
     "text": [
      "<class 'pandas.core.frame.DataFrame'>\n",
      "RangeIndex: 1445 entries, 0 to 1444\n",
      "Data columns (total 11 columns):\n",
      " #   Column        Non-Null Count  Dtype \n",
      "---  ------        --------------  ----- \n",
      " 0   customer_id   1445 non-null   int64 \n",
      " 1   first_name    1445 non-null   object\n",
      " 2   last_name     1445 non-null   object\n",
      " 3   phone         178 non-null    object\n",
      " 4   email         1445 non-null   object\n",
      " 5   street        1445 non-null   object\n",
      " 6   city          1445 non-null   object\n",
      " 7   state         1445 non-null   object\n",
      " 8   zip_code      1445 non-null   int64 \n",
      " 9   extract_time  1445 non-null   object\n",
      " 10  source        1445 non-null   object\n",
      "dtypes: int64(2), object(9)\n",
      "memory usage: 124.3+ KB\n"
     ]
    }
   ],
   "source": [
    "cust_df.info()"
   ]
  },
  {
   "cell_type": "code",
   "execution_count": 7,
   "id": "824e7eb7",
   "metadata": {},
   "outputs": [
    {
     "data": {
      "text/plain": [
       "0       False\n",
       "1       False\n",
       "2       False\n",
       "3       False\n",
       "4       False\n",
       "        ...  \n",
       "1440    False\n",
       "1441    False\n",
       "1442    False\n",
       "1443    False\n",
       "1444    False\n",
       "Length: 1445, dtype: bool"
      ]
     },
     "execution_count": 7,
     "metadata": {},
     "output_type": "execute_result"
    }
   ],
   "source": [
    "#check dublicates\n",
    "duplicates = cust_df.duplicated('customer_id')\n",
    "duplicates"
   ]
  },
  {
   "cell_type": "code",
   "execution_count": 9,
   "id": "07789b31",
   "metadata": {},
   "outputs": [
    {
     "data": {
      "text/plain": [
       "Series([], Name: customer_id, dtype: int64)"
      ]
     },
     "execution_count": 9,
     "metadata": {},
     "output_type": "execute_result"
    }
   ],
   "source": [
    "count_duplicates= cust_df['customer_id'].value_counts()\n",
    "duplicates = count_duplicates[count_duplicates > 1]\n",
    "duplicates"
   ]
  },
  {
   "cell_type": "code",
   "execution_count": 12,
   "id": "4bd8895b",
   "metadata": {},
   "outputs": [],
   "source": [
    "cust_df.to_csv('../Staging/customers/customers.csv',index=False)"
   ]
  },
  {
   "cell_type": "code",
   "execution_count": null,
   "id": "e5e1dfed",
   "metadata": {},
   "outputs": [],
   "source": []
  }
 ],
 "metadata": {
  "kernelspec": {
   "display_name": "Python 3 (ipykernel)",
   "language": "python",
   "name": "python3"
  },
  "language_info": {
   "codemirror_mode": {
    "name": "ipython",
    "version": 3
   },
   "file_extension": ".py",
   "mimetype": "text/x-python",
   "name": "python",
   "nbconvert_exporter": "python",
   "pygments_lexer": "ipython3",
   "version": "3.9.12"
  }
 },
 "nbformat": 4,
 "nbformat_minor": 5
}
