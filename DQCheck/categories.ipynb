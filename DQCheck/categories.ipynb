{
 "cells": [
  {
   "cell_type": "code",
   "execution_count": 1,
   "id": "e9193c7f",
   "metadata": {},
   "outputs": [
    {
     "data": {
      "text/html": [
       "<div>\n",
       "<style scoped>\n",
       "    .dataframe tbody tr th:only-of-type {\n",
       "        vertical-align: middle;\n",
       "    }\n",
       "\n",
       "    .dataframe tbody tr th {\n",
       "        vertical-align: top;\n",
       "    }\n",
       "\n",
       "    .dataframe thead th {\n",
       "        text-align: right;\n",
       "    }\n",
       "</style>\n",
       "<table border=\"1\" class=\"dataframe\">\n",
       "  <thead>\n",
       "    <tr style=\"text-align: right;\">\n",
       "      <th></th>\n",
       "      <th>category_id</th>\n",
       "      <th>category_name</th>\n",
       "      <th>extract_time</th>\n",
       "      <th>source</th>\n",
       "    </tr>\n",
       "  </thead>\n",
       "  <tbody>\n",
       "    <tr>\n",
       "      <th>0</th>\n",
       "      <td>1</td>\n",
       "      <td>Children Bicycles</td>\n",
       "      <td>2024-04-28 19:22:44.124299</td>\n",
       "      <td>datalake</td>\n",
       "    </tr>\n",
       "    <tr>\n",
       "      <th>1</th>\n",
       "      <td>2</td>\n",
       "      <td>Comfort Bicycles</td>\n",
       "      <td>2024-04-28 19:22:44.124299</td>\n",
       "      <td>datalake</td>\n",
       "    </tr>\n",
       "    <tr>\n",
       "      <th>2</th>\n",
       "      <td>3</td>\n",
       "      <td>Cruisers Bicycles</td>\n",
       "      <td>2024-04-28 19:22:44.124299</td>\n",
       "      <td>datalake</td>\n",
       "    </tr>\n",
       "    <tr>\n",
       "      <th>3</th>\n",
       "      <td>4</td>\n",
       "      <td>Cyclocross Bicycles</td>\n",
       "      <td>2024-04-28 19:22:44.124299</td>\n",
       "      <td>datalake</td>\n",
       "    </tr>\n",
       "    <tr>\n",
       "      <th>4</th>\n",
       "      <td>5</td>\n",
       "      <td>Electric Bikes</td>\n",
       "      <td>2024-04-28 19:22:44.124299</td>\n",
       "      <td>datalake</td>\n",
       "    </tr>\n",
       "    <tr>\n",
       "      <th>5</th>\n",
       "      <td>6</td>\n",
       "      <td>Mountain Bikes</td>\n",
       "      <td>2024-04-28 19:22:44.124299</td>\n",
       "      <td>datalake</td>\n",
       "    </tr>\n",
       "    <tr>\n",
       "      <th>6</th>\n",
       "      <td>7</td>\n",
       "      <td>Road Bikes</td>\n",
       "      <td>2024-04-28 19:22:44.124299</td>\n",
       "      <td>datalake</td>\n",
       "    </tr>\n",
       "  </tbody>\n",
       "</table>\n",
       "</div>"
      ],
      "text/plain": [
       "   category_id        category_name                extract_time    source\n",
       "0            1    Children Bicycles  2024-04-28 19:22:44.124299  datalake\n",
       "1            2     Comfort Bicycles  2024-04-28 19:22:44.124299  datalake\n",
       "2            3    Cruisers Bicycles  2024-04-28 19:22:44.124299  datalake\n",
       "3            4  Cyclocross Bicycles  2024-04-28 19:22:44.124299  datalake\n",
       "4            5       Electric Bikes  2024-04-28 19:22:44.124299  datalake\n",
       "5            6       Mountain Bikes  2024-04-28 19:22:44.124299  datalake\n",
       "6            7           Road Bikes  2024-04-28 19:22:44.124299  datalake"
      ]
     },
     "execution_count": 1,
     "metadata": {},
     "output_type": "execute_result"
    }
   ],
   "source": [
    "import pandas as pd\n",
    "catg_df = pd.read_csv('../Landing/categories/categories.csv')\n",
    "catg_df"
   ]
  },
  {
   "cell_type": "code",
   "execution_count": 2,
   "id": "a47039f9",
   "metadata": {},
   "outputs": [
    {
     "data": {
      "text/plain": [
       "category_id      0\n",
       "category_name    0\n",
       "extract_time     0\n",
       "source           0\n",
       "dtype: int64"
      ]
     },
     "execution_count": 2,
     "metadata": {},
     "output_type": "execute_result"
    }
   ],
   "source": [
    "#check nulls\n",
    "catg_df.isnull().sum()"
   ]
  },
  {
   "cell_type": "code",
   "execution_count": 3,
   "id": "90183cd8",
   "metadata": {},
   "outputs": [
    {
     "data": {
      "text/plain": [
       "0    False\n",
       "1    False\n",
       "2    False\n",
       "3    False\n",
       "4    False\n",
       "5    False\n",
       "6    False\n",
       "dtype: bool"
      ]
     },
     "execution_count": 3,
     "metadata": {},
     "output_type": "execute_result"
    }
   ],
   "source": [
    "#check dublicates\n",
    "duplicates = catg_df.duplicated()\n",
    "duplicates"
   ]
  },
  {
   "cell_type": "code",
   "execution_count": 5,
   "id": "4084e75d",
   "metadata": {},
   "outputs": [],
   "source": [
    "catg_df.to_csv('../Staging/categories/categories.csv',index=False)"
   ]
  },
  {
   "cell_type": "code",
   "execution_count": null,
   "id": "50a128b2",
   "metadata": {},
   "outputs": [],
   "source": []
  }
 ],
 "metadata": {
  "kernelspec": {
   "display_name": "Python 3 (ipykernel)",
   "language": "python",
   "name": "python3"
  },
  "language_info": {
   "codemirror_mode": {
    "name": "ipython",
    "version": 3
   },
   "file_extension": ".py",
   "mimetype": "text/x-python",
   "name": "python",
   "nbconvert_exporter": "python",
   "pygments_lexer": "ipython3",
   "version": "3.9.12"
  }
 },
 "nbformat": 4,
 "nbformat_minor": 5
}
