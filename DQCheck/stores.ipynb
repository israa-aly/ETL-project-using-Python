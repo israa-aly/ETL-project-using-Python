{
 "cells": [
  {
   "cell_type": "code",
   "execution_count": 1,
   "id": "09dbd06b",
   "metadata": {},
   "outputs": [
    {
     "data": {
      "text/html": [
       "<div>\n",
       "<style scoped>\n",
       "    .dataframe tbody tr th:only-of-type {\n",
       "        vertical-align: middle;\n",
       "    }\n",
       "\n",
       "    .dataframe tbody tr th {\n",
       "        vertical-align: top;\n",
       "    }\n",
       "\n",
       "    .dataframe thead th {\n",
       "        text-align: right;\n",
       "    }\n",
       "</style>\n",
       "<table border=\"1\" class=\"dataframe\">\n",
       "  <thead>\n",
       "    <tr style=\"text-align: right;\">\n",
       "      <th></th>\n",
       "      <th>store_id</th>\n",
       "      <th>store_name</th>\n",
       "      <th>phone</th>\n",
       "      <th>email</th>\n",
       "      <th>street</th>\n",
       "      <th>city</th>\n",
       "      <th>state</th>\n",
       "      <th>zip_code</th>\n",
       "      <th>extract_time</th>\n",
       "      <th>source</th>\n",
       "    </tr>\n",
       "  </thead>\n",
       "  <tbody>\n",
       "    <tr>\n",
       "      <th>0</th>\n",
       "      <td>1</td>\n",
       "      <td>Santa Cruz Bikes</td>\n",
       "      <td>(831) 476-4321</td>\n",
       "      <td>NaN</td>\n",
       "      <td>3700 Portola Drive</td>\n",
       "      <td>Santa Cruz</td>\n",
       "      <td>CA</td>\n",
       "      <td>NaN</td>\n",
       "      <td>2024-04-28 19:25:45.322157</td>\n",
       "      <td>datalake</td>\n",
       "    </tr>\n",
       "    <tr>\n",
       "      <th>1</th>\n",
       "      <td>2</td>\n",
       "      <td>Baldwin Bikes</td>\n",
       "      <td>(516) 379-8888</td>\n",
       "      <td>baldwin@bikes.shop</td>\n",
       "      <td>4200 Chestnut Lane</td>\n",
       "      <td>Baldwin</td>\n",
       "      <td>NY</td>\n",
       "      <td>11432.0</td>\n",
       "      <td>2024-04-28 19:25:45.322157</td>\n",
       "      <td>datalake</td>\n",
       "    </tr>\n",
       "    <tr>\n",
       "      <th>2</th>\n",
       "      <td>3</td>\n",
       "      <td>Rowlett Bikes</td>\n",
       "      <td>(972) 530-5555</td>\n",
       "      <td>rowlett@bikes.shop</td>\n",
       "      <td>8000 Fairway Avenue</td>\n",
       "      <td>Rowlett</td>\n",
       "      <td>TX</td>\n",
       "      <td>75088.0</td>\n",
       "      <td>2024-04-28 19:25:45.322157</td>\n",
       "      <td>datalake</td>\n",
       "    </tr>\n",
       "  </tbody>\n",
       "</table>\n",
       "</div>"
      ],
      "text/plain": [
       "   store_id        store_name           phone               email  \\\n",
       "0         1  Santa Cruz Bikes  (831) 476-4321                 NaN   \n",
       "1         2     Baldwin Bikes  (516) 379-8888  baldwin@bikes.shop   \n",
       "2         3     Rowlett Bikes  (972) 530-5555  rowlett@bikes.shop   \n",
       "\n",
       "                street        city state  zip_code  \\\n",
       "0   3700 Portola Drive  Santa Cruz    CA       NaN   \n",
       "1   4200 Chestnut Lane     Baldwin    NY   11432.0   \n",
       "2  8000 Fairway Avenue     Rowlett    TX   75088.0   \n",
       "\n",
       "                 extract_time    source  \n",
       "0  2024-04-28 19:25:45.322157  datalake  \n",
       "1  2024-04-28 19:25:45.322157  datalake  \n",
       "2  2024-04-28 19:25:45.322157  datalake  "
      ]
     },
     "execution_count": 1,
     "metadata": {},
     "output_type": "execute_result"
    }
   ],
   "source": [
    "import pandas as pd\n",
    "stores = pd.read_csv('../Landing/stores/stores.csv')\n",
    "stores"
   ]
  },
  {
   "cell_type": "code",
   "execution_count": 3,
   "id": "5cc86607",
   "metadata": {},
   "outputs": [
    {
     "data": {
      "text/plain": [
       "store_id        0\n",
       "store_name      0\n",
       "phone           0\n",
       "email           1\n",
       "street          0\n",
       "city            0\n",
       "state           0\n",
       "zip_code        1\n",
       "extract_time    0\n",
       "source          0\n",
       "dtype: int64"
      ]
     },
     "execution_count": 3,
     "metadata": {},
     "output_type": "execute_result"
    }
   ],
   "source": [
    "#check nulls\n",
    "stores.isnull().sum()"
   ]
  },
  {
   "cell_type": "code",
   "execution_count": 4,
   "id": "bccdcaa9",
   "metadata": {},
   "outputs": [],
   "source": [
    "stores['email'].fillna('no email', inplace=True)"
   ]
  },
  {
   "cell_type": "code",
   "execution_count": 5,
   "id": "6ac16f3c",
   "metadata": {},
   "outputs": [],
   "source": [
    "stores['zip_code'].fillna('no zip_code', inplace=True)"
   ]
  },
  {
   "cell_type": "code",
   "execution_count": 6,
   "id": "2105fce9",
   "metadata": {},
   "outputs": [
    {
     "data": {
      "text/plain": [
       "store_id        0\n",
       "store_name      0\n",
       "phone           0\n",
       "email           0\n",
       "street          0\n",
       "city            0\n",
       "state           0\n",
       "zip_code        0\n",
       "extract_time    0\n",
       "source          0\n",
       "dtype: int64"
      ]
     },
     "execution_count": 6,
     "metadata": {},
     "output_type": "execute_result"
    }
   ],
   "source": [
    "stores.isnull().sum()"
   ]
  },
  {
   "cell_type": "code",
   "execution_count": 7,
   "id": "5fb08711",
   "metadata": {},
   "outputs": [
    {
     "data": {
      "text/plain": [
       "0    False\n",
       "1    False\n",
       "2    False\n",
       "dtype: bool"
      ]
     },
     "execution_count": 7,
     "metadata": {},
     "output_type": "execute_result"
    }
   ],
   "source": [
    "#check dublicates\n",
    "duplicates = stores.duplicated()\n",
    "duplicates"
   ]
  },
  {
   "cell_type": "code",
   "execution_count": 8,
   "id": "ef6b00de",
   "metadata": {},
   "outputs": [],
   "source": [
    "stores.to_csv('../Staging/stores/stores.csv',index=False)"
   ]
  },
  {
   "cell_type": "code",
   "execution_count": null,
   "id": "9dae0824",
   "metadata": {},
   "outputs": [],
   "source": []
  }
 ],
 "metadata": {
  "kernelspec": {
   "display_name": "Python 3 (ipykernel)",
   "language": "python",
   "name": "python3"
  },
  "language_info": {
   "codemirror_mode": {
    "name": "ipython",
    "version": 3
   },
   "file_extension": ".py",
   "mimetype": "text/x-python",
   "name": "python",
   "nbconvert_exporter": "python",
   "pygments_lexer": "ipython3",
   "version": "3.9.12"
  }
 },
 "nbformat": 4,
 "nbformat_minor": 5
}
