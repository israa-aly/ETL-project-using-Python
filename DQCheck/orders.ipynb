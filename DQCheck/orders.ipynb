{
 "cells": [
  {
   "cell_type": "code",
   "execution_count": 1,
   "id": "737ab770",
   "metadata": {},
   "outputs": [
    {
     "data": {
      "text/html": [
       "<div>\n",
       "<style scoped>\n",
       "    .dataframe tbody tr th:only-of-type {\n",
       "        vertical-align: middle;\n",
       "    }\n",
       "\n",
       "    .dataframe tbody tr th {\n",
       "        vertical-align: top;\n",
       "    }\n",
       "\n",
       "    .dataframe thead th {\n",
       "        text-align: right;\n",
       "    }\n",
       "</style>\n",
       "<table border=\"1\" class=\"dataframe\">\n",
       "  <thead>\n",
       "    <tr style=\"text-align: right;\">\n",
       "      <th></th>\n",
       "      <th>order_id</th>\n",
       "      <th>customer_id</th>\n",
       "      <th>order_status</th>\n",
       "      <th>order_date</th>\n",
       "      <th>required_date</th>\n",
       "      <th>shipped_date</th>\n",
       "      <th>store_id</th>\n",
       "      <th>staff_id</th>\n",
       "      <th>extract_time</th>\n",
       "      <th>source</th>\n",
       "    </tr>\n",
       "  </thead>\n",
       "  <tbody>\n",
       "    <tr>\n",
       "      <th>0</th>\n",
       "      <td>1</td>\n",
       "      <td>259</td>\n",
       "      <td>4</td>\n",
       "      <td>2016-01-01</td>\n",
       "      <td>2016-01-03</td>\n",
       "      <td>2016-01-03</td>\n",
       "      <td>1</td>\n",
       "      <td>2</td>\n",
       "      <td>2024-04-28 18:44:54.651800</td>\n",
       "      <td>postgres</td>\n",
       "    </tr>\n",
       "    <tr>\n",
       "      <th>1</th>\n",
       "      <td>2</td>\n",
       "      <td>1212</td>\n",
       "      <td>4</td>\n",
       "      <td>2016-01-01</td>\n",
       "      <td>2016-01-04</td>\n",
       "      <td>2016-01-03</td>\n",
       "      <td>2</td>\n",
       "      <td>6</td>\n",
       "      <td>2024-04-28 18:44:54.651800</td>\n",
       "      <td>postgres</td>\n",
       "    </tr>\n",
       "    <tr>\n",
       "      <th>2</th>\n",
       "      <td>3</td>\n",
       "      <td>523</td>\n",
       "      <td>4</td>\n",
       "      <td>2016-01-02</td>\n",
       "      <td>2016-01-05</td>\n",
       "      <td>2016-01-03</td>\n",
       "      <td>2</td>\n",
       "      <td>7</td>\n",
       "      <td>2024-04-28 18:44:54.651800</td>\n",
       "      <td>postgres</td>\n",
       "    </tr>\n",
       "    <tr>\n",
       "      <th>3</th>\n",
       "      <td>4</td>\n",
       "      <td>175</td>\n",
       "      <td>4</td>\n",
       "      <td>2016-01-03</td>\n",
       "      <td>2016-01-04</td>\n",
       "      <td>2016-01-05</td>\n",
       "      <td>1</td>\n",
       "      <td>3</td>\n",
       "      <td>2024-04-28 18:44:54.651800</td>\n",
       "      <td>postgres</td>\n",
       "    </tr>\n",
       "    <tr>\n",
       "      <th>4</th>\n",
       "      <td>5</td>\n",
       "      <td>1324</td>\n",
       "      <td>4</td>\n",
       "      <td>2016-01-03</td>\n",
       "      <td>2016-01-06</td>\n",
       "      <td>2016-01-06</td>\n",
       "      <td>2</td>\n",
       "      <td>6</td>\n",
       "      <td>2024-04-28 18:44:54.651800</td>\n",
       "      <td>postgres</td>\n",
       "    </tr>\n",
       "    <tr>\n",
       "      <th>5</th>\n",
       "      <td>6</td>\n",
       "      <td>94</td>\n",
       "      <td>4</td>\n",
       "      <td>1016-01-04</td>\n",
       "      <td>1016-01-07</td>\n",
       "      <td>1016-01-05</td>\n",
       "      <td>2</td>\n",
       "      <td>6</td>\n",
       "      <td>2024-04-28 18:44:54.651800</td>\n",
       "      <td>postgres</td>\n",
       "    </tr>\n",
       "    <tr>\n",
       "      <th>6</th>\n",
       "      <td>7</td>\n",
       "      <td>324</td>\n",
       "      <td>4</td>\n",
       "      <td>1016-01-04</td>\n",
       "      <td>1016-01-07</td>\n",
       "      <td>1016-01-05</td>\n",
       "      <td>2</td>\n",
       "      <td>6</td>\n",
       "      <td>2024-04-28 18:44:54.651800</td>\n",
       "      <td>postgres</td>\n",
       "    </tr>\n",
       "    <tr>\n",
       "      <th>7</th>\n",
       "      <td>8</td>\n",
       "      <td>1204</td>\n",
       "      <td>4</td>\n",
       "      <td>1016-01-04</td>\n",
       "      <td>1016-01-05</td>\n",
       "      <td>1016-01-05</td>\n",
       "      <td>2</td>\n",
       "      <td>7</td>\n",
       "      <td>2024-04-28 18:44:54.651800</td>\n",
       "      <td>postgres</td>\n",
       "    </tr>\n",
       "    <tr>\n",
       "      <th>8</th>\n",
       "      <td>9</td>\n",
       "      <td>60</td>\n",
       "      <td>4</td>\n",
       "      <td>1016-01-05</td>\n",
       "      <td>1016-01-08</td>\n",
       "      <td>1016-01-08</td>\n",
       "      <td>1</td>\n",
       "      <td>2</td>\n",
       "      <td>2024-04-28 18:44:54.651800</td>\n",
       "      <td>postgres</td>\n",
       "    </tr>\n",
       "    <tr>\n",
       "      <th>9</th>\n",
       "      <td>10</td>\n",
       "      <td>442</td>\n",
       "      <td>4</td>\n",
       "      <td>1016-01-05</td>\n",
       "      <td>1016-01-06</td>\n",
       "      <td>1016-01-06</td>\n",
       "      <td>2</td>\n",
       "      <td>6</td>\n",
       "      <td>2024-04-28 18:44:54.651800</td>\n",
       "      <td>postgres</td>\n",
       "    </tr>\n",
       "  </tbody>\n",
       "</table>\n",
       "</div>"
      ],
      "text/plain": [
       "   order_id  customer_id  order_status  order_date required_date shipped_date  \\\n",
       "0         1          259             4  2016-01-01    2016-01-03   2016-01-03   \n",
       "1         2         1212             4  2016-01-01    2016-01-04   2016-01-03   \n",
       "2         3          523             4  2016-01-02    2016-01-05   2016-01-03   \n",
       "3         4          175             4  2016-01-03    2016-01-04   2016-01-05   \n",
       "4         5         1324             4  2016-01-03    2016-01-06   2016-01-06   \n",
       "5         6           94             4  1016-01-04    1016-01-07   1016-01-05   \n",
       "6         7          324             4  1016-01-04    1016-01-07   1016-01-05   \n",
       "7         8         1204             4  1016-01-04    1016-01-05   1016-01-05   \n",
       "8         9           60             4  1016-01-05    1016-01-08   1016-01-08   \n",
       "9        10          442             4  1016-01-05    1016-01-06   1016-01-06   \n",
       "\n",
       "   store_id  staff_id                extract_time    source  \n",
       "0         1         2  2024-04-28 18:44:54.651800  postgres  \n",
       "1         2         6  2024-04-28 18:44:54.651800  postgres  \n",
       "2         2         7  2024-04-28 18:44:54.651800  postgres  \n",
       "3         1         3  2024-04-28 18:44:54.651800  postgres  \n",
       "4         2         6  2024-04-28 18:44:54.651800  postgres  \n",
       "5         2         6  2024-04-28 18:44:54.651800  postgres  \n",
       "6         2         6  2024-04-28 18:44:54.651800  postgres  \n",
       "7         2         7  2024-04-28 18:44:54.651800  postgres  \n",
       "8         1         2  2024-04-28 18:44:54.651800  postgres  \n",
       "9         2         6  2024-04-28 18:44:54.651800  postgres  "
      ]
     },
     "execution_count": 1,
     "metadata": {},
     "output_type": "execute_result"
    }
   ],
   "source": [
    "import pandas as pd\n",
    "orders_df = pd.read_csv('../Landing/orders/orders.csv')\n",
    "orders_df.head(10)"
   ]
  },
  {
   "cell_type": "code",
   "execution_count": 2,
   "id": "d00af849",
   "metadata": {},
   "outputs": [
    {
     "data": {
      "text/plain": [
       "order_id           0\n",
       "customer_id        0\n",
       "order_status       0\n",
       "order_date         0\n",
       "required_date      0\n",
       "shipped_date     170\n",
       "store_id           0\n",
       "staff_id           0\n",
       "extract_time       0\n",
       "source             0\n",
       "dtype: int64"
      ]
     },
     "execution_count": 2,
     "metadata": {},
     "output_type": "execute_result"
    }
   ],
   "source": [
    "#check nulls\n",
    "orders_df.isnull().sum()"
   ]
  },
  {
   "cell_type": "code",
   "execution_count": 3,
   "id": "61a59979",
   "metadata": {},
   "outputs": [],
   "source": [
    "# i will assume if shipped_date = null then the order isn't shipped yet \n",
    "orders_df['shipped_date'].fillna('not yet', inplace=True)"
   ]
  },
  {
   "cell_type": "code",
   "execution_count": 4,
   "id": "b38ad893",
   "metadata": {},
   "outputs": [
    {
     "data": {
      "text/plain": [
       "order_id         0\n",
       "customer_id      0\n",
       "order_status     0\n",
       "order_date       0\n",
       "required_date    0\n",
       "shipped_date     0\n",
       "store_id         0\n",
       "staff_id         0\n",
       "extract_time     0\n",
       "source           0\n",
       "dtype: int64"
      ]
     },
     "execution_count": 4,
     "metadata": {},
     "output_type": "execute_result"
    }
   ],
   "source": [
    "#check nulls\n",
    "orders_df.isnull().sum()"
   ]
  },
  {
   "cell_type": "code",
   "execution_count": 5,
   "id": "1d98cb95",
   "metadata": {},
   "outputs": [
    {
     "name": "stdout",
     "output_type": "stream",
     "text": [
      "<class 'pandas.core.frame.DataFrame'>\n",
      "RangeIndex: 1615 entries, 0 to 1614\n",
      "Data columns (total 10 columns):\n",
      " #   Column         Non-Null Count  Dtype \n",
      "---  ------         --------------  ----- \n",
      " 0   order_id       1615 non-null   int64 \n",
      " 1   customer_id    1615 non-null   int64 \n",
      " 2   order_status   1615 non-null   int64 \n",
      " 3   order_date     1615 non-null   object\n",
      " 4   required_date  1615 non-null   object\n",
      " 5   shipped_date   1615 non-null   object\n",
      " 6   store_id       1615 non-null   int64 \n",
      " 7   staff_id       1615 non-null   int64 \n",
      " 8   extract_time   1615 non-null   object\n",
      " 9   source         1615 non-null   object\n",
      "dtypes: int64(5), object(5)\n",
      "memory usage: 126.3+ KB\n"
     ]
    }
   ],
   "source": [
    "orders_df.info()"
   ]
  },
  {
   "cell_type": "code",
   "execution_count": 14,
   "id": "1f390726",
   "metadata": {},
   "outputs": [],
   "source": []
  },
  {
   "cell_type": "code",
   "execution_count": 16,
   "id": "6e002323",
   "metadata": {},
   "outputs": [
    {
     "data": {
      "text/plain": [
       "order_id           0\n",
       "customer_id        0\n",
       "order_status       0\n",
       "order_date        11\n",
       "required_date      0\n",
       "shipped_date     170\n",
       "store_id           0\n",
       "staff_id           0\n",
       "extract_time       0\n",
       "source             0\n",
       "dtype: int64"
      ]
     },
     "execution_count": 16,
     "metadata": {},
     "output_type": "execute_result"
    }
   ],
   "source": [
    "orders_df.isnull().sum()"
   ]
  },
  {
   "cell_type": "code",
   "execution_count": 8,
   "id": "dd9758af",
   "metadata": {},
   "outputs": [],
   "source": [
    "orders_df['order_date'] = pd.to_datetime(orders_df['order_date'], errors='coerce')\n",
    "# Filter rows where the year is between 2000 and 2024\n",
    "orders_df = orders_df[(orders_df['order_date'].dt.year >= 2000) & (orders_df['order_date'].dt.year <= 2024)]\n",
    "\n"
   ]
  },
  {
   "cell_type": "code",
   "execution_count": 9,
   "id": "c4d7cd48",
   "metadata": {},
   "outputs": [
    {
     "data": {
      "text/plain": [
       "order_id         0\n",
       "customer_id      0\n",
       "order_status     0\n",
       "order_date       0\n",
       "required_date    0\n",
       "shipped_date     0\n",
       "store_id         0\n",
       "staff_id         0\n",
       "extract_time     0\n",
       "source           0\n",
       "dtype: int64"
      ]
     },
     "execution_count": 9,
     "metadata": {},
     "output_type": "execute_result"
    }
   ],
   "source": [
    "orders_df.isnull().sum()"
   ]
  },
  {
   "cell_type": "code",
   "execution_count": 13,
   "id": "43fa24e4",
   "metadata": {},
   "outputs": [
    {
     "data": {
      "text/plain": [
       "Timestamp('2016-01-01 00:00:00')"
      ]
     },
     "execution_count": 13,
     "metadata": {},
     "output_type": "execute_result"
    }
   ],
   "source": [
    "orders_df['order_date'].min()"
   ]
  },
  {
   "cell_type": "code",
   "execution_count": 14,
   "id": "8f3c2d3f",
   "metadata": {},
   "outputs": [
    {
     "data": {
      "text/plain": [
       "Timestamp('2018-12-28 00:00:00')"
      ]
     },
     "execution_count": 14,
     "metadata": {},
     "output_type": "execute_result"
    }
   ],
   "source": [
    "orders_df['order_date'].max()"
   ]
  },
  {
   "cell_type": "code",
   "execution_count": 17,
   "id": "09749489",
   "metadata": {},
   "outputs": [
    {
     "data": {
      "text/plain": [
       "0       False\n",
       "1       False\n",
       "2       False\n",
       "3       False\n",
       "4       False\n",
       "        ...  \n",
       "1610    False\n",
       "1611    False\n",
       "1612    False\n",
       "1613    False\n",
       "1614    False\n",
       "Length: 1604, dtype: bool"
      ]
     },
     "execution_count": 17,
     "metadata": {},
     "output_type": "execute_result"
    }
   ],
   "source": [
    "#check dublicates\n",
    "duplicates = orders_df.duplicated('order_id')\n",
    "duplicates"
   ]
  },
  {
   "cell_type": "code",
   "execution_count": 18,
   "id": "b836311a",
   "metadata": {},
   "outputs": [
    {
     "data": {
      "text/plain": [
       "1604"
      ]
     },
     "execution_count": 18,
     "metadata": {},
     "output_type": "execute_result"
    }
   ],
   "source": [
    "unique_count = orders_df['order_id'].nunique()\n",
    "unique_count"
   ]
  },
  {
   "cell_type": "code",
   "execution_count": 19,
   "id": "7867b50c",
   "metadata": {},
   "outputs": [
    {
     "data": {
      "text/plain": [
       "(1604, 10)"
      ]
     },
     "execution_count": 19,
     "metadata": {},
     "output_type": "execute_result"
    }
   ],
   "source": [
    "orders_df.shape"
   ]
  },
  {
   "cell_type": "code",
   "execution_count": 20,
   "id": "aacc1d0c",
   "metadata": {},
   "outputs": [],
   "source": [
    "orders_df.to_csv('../Staging/orders/orders.csv',index=False)"
   ]
  },
  {
   "cell_type": "code",
   "execution_count": null,
   "id": "cd66fdc5",
   "metadata": {},
   "outputs": [],
   "source": []
  }
 ],
 "metadata": {
  "kernelspec": {
   "display_name": "Python 3 (ipykernel)",
   "language": "python",
   "name": "python3"
  },
  "language_info": {
   "codemirror_mode": {
    "name": "ipython",
    "version": 3
   },
   "file_extension": ".py",
   "mimetype": "text/x-python",
   "name": "python",
   "nbconvert_exporter": "python",
   "pygments_lexer": "ipython3",
   "version": "3.9.12"
  }
 },
 "nbformat": 4,
 "nbformat_minor": 5
}
