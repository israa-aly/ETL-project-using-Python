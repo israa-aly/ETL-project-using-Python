{
 "cells": [
  {
   "cell_type": "code",
   "execution_count": 2,
   "id": "51e9d5f0",
   "metadata": {},
   "outputs": [],
   "source": [
    "import pandas as pd\n",
    "from datetime import datetime\n",
    "\n",
    "def extract_file(csv_file,destination):\n",
    "    df = pd.read_csv(csv_file)\n",
    "    df['extract_time'] = datetime.now()\n",
    "    df['source'] = 'datalake'\n",
    "    df.to_csv(f'../Landing/{destination}', index=False)\n",
    "\n",
    "\n"
   ]
  },
  {
   "cell_type": "code",
   "execution_count": 4,
   "id": "33f2d96b",
   "metadata": {},
   "outputs": [],
   "source": [
    "extract_file('../bikestore_dim/brands/brands.csv', 'brands/brands.csv')"
   ]
  },
  {
   "cell_type": "code",
   "execution_count": 6,
   "id": "f9675d7c",
   "metadata": {},
   "outputs": [],
   "source": [
    "extract_file('../bikestore_dim/categories/categories.csv', 'categories/categories.csv')"
   ]
  },
  {
   "cell_type": "code",
   "execution_count": 7,
   "id": "23d093d5",
   "metadata": {},
   "outputs": [],
   "source": [
    "extract_file('../bikestore_dim/customers/customers.csv', 'customers/customers.csv')"
   ]
  },
  {
   "cell_type": "code",
   "execution_count": 8,
   "id": "2c90b4c5",
   "metadata": {},
   "outputs": [],
   "source": [
    "extract_file('../bikestore_dim/products/products.csv', 'products/products.csv')"
   ]
  },
  {
   "cell_type": "code",
   "execution_count": 9,
   "id": "c1be978e",
   "metadata": {},
   "outputs": [],
   "source": [
    "extract_file('../bikestore_dim/staffs/staffs.csv', 'staffs/staffs.csv')"
   ]
  },
  {
   "cell_type": "code",
   "execution_count": 10,
   "id": "9bbb2d26",
   "metadata": {},
   "outputs": [],
   "source": [
    "extract_file('../bikestore_dim/stocks/stocks.csv', 'stocks/stocks.csv')"
   ]
  },
  {
   "cell_type": "code",
   "execution_count": 11,
   "id": "a4d28924",
   "metadata": {},
   "outputs": [],
   "source": [
    "extract_file('../bikestore_dim/stores/stores.csv', 'stores/stores.csv')"
   ]
  },
  {
   "cell_type": "code",
   "execution_count": null,
   "id": "1a8d1c40",
   "metadata": {},
   "outputs": [],
   "source": []
  }
 ],
 "metadata": {
  "kernelspec": {
   "display_name": "Python 3 (ipykernel)",
   "language": "python",
   "name": "python3"
  },
  "language_info": {
   "codemirror_mode": {
    "name": "ipython",
    "version": 3
   },
   "file_extension": ".py",
   "mimetype": "text/x-python",
   "name": "python",
   "nbconvert_exporter": "python",
   "pygments_lexer": "ipython3",
   "version": "3.9.12"
  }
 },
 "nbformat": 4,
 "nbformat_minor": 5
}
