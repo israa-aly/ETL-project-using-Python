{
 "cells": [
  {
   "cell_type": "code",
   "execution_count": 4,
   "id": "2e87fff2",
   "metadata": {},
   "outputs": [
    {
     "data": {
      "text/html": [
       "<div>\n",
       "<style scoped>\n",
       "    .dataframe tbody tr th:only-of-type {\n",
       "        vertical-align: middle;\n",
       "    }\n",
       "\n",
       "    .dataframe tbody tr th {\n",
       "        vertical-align: top;\n",
       "    }\n",
       "\n",
       "    .dataframe thead th {\n",
       "        text-align: right;\n",
       "    }\n",
       "</style>\n",
       "<table border=\"1\" class=\"dataframe\">\n",
       "  <thead>\n",
       "    <tr style=\"text-align: right;\">\n",
       "      <th></th>\n",
       "      <th>disclaimer</th>\n",
       "      <th>license</th>\n",
       "      <th>timestamp</th>\n",
       "      <th>base</th>\n",
       "      <th>rates.AED</th>\n",
       "      <th>rates.AFN</th>\n",
       "      <th>rates.ALL</th>\n",
       "      <th>rates.AMD</th>\n",
       "      <th>rates.ANG</th>\n",
       "      <th>rates.AOA</th>\n",
       "      <th>...</th>\n",
       "      <th>rates.XCD</th>\n",
       "      <th>rates.XDR</th>\n",
       "      <th>rates.XOF</th>\n",
       "      <th>rates.XPD</th>\n",
       "      <th>rates.XPF</th>\n",
       "      <th>rates.XPT</th>\n",
       "      <th>rates.YER</th>\n",
       "      <th>rates.ZAR</th>\n",
       "      <th>rates.ZMW</th>\n",
       "      <th>rates.ZWL</th>\n",
       "    </tr>\n",
       "  </thead>\n",
       "  <tbody>\n",
       "    <tr>\n",
       "      <th>0</th>\n",
       "      <td>Usage subject to terms: https://openexchangera...</td>\n",
       "      <td>https://openexchangerates.org/license</td>\n",
       "      <td>1714320005</td>\n",
       "      <td>USD</td>\n",
       "      <td>3.6729</td>\n",
       "      <td>72.307621</td>\n",
       "      <td>94.23912</td>\n",
       "      <td>389.571444</td>\n",
       "      <td>1.806663</td>\n",
       "      <td>834.06</td>\n",
       "      <td>...</td>\n",
       "      <td>2.70255</td>\n",
       "      <td>0.762603</td>\n",
       "      <td>613.244531</td>\n",
       "      <td>0.001048</td>\n",
       "      <td>111.561487</td>\n",
       "      <td>0.001095</td>\n",
       "      <td>250.374948</td>\n",
       "      <td>18.78012</td>\n",
       "      <td>26.565435</td>\n",
       "      <td>322</td>\n",
       "    </tr>\n",
       "  </tbody>\n",
       "</table>\n",
       "<p>1 rows × 173 columns</p>\n",
       "</div>"
      ],
      "text/plain": [
       "                                          disclaimer  \\\n",
       "0  Usage subject to terms: https://openexchangera...   \n",
       "\n",
       "                                 license   timestamp base  rates.AED  \\\n",
       "0  https://openexchangerates.org/license  1714320005  USD     3.6729   \n",
       "\n",
       "   rates.AFN  rates.ALL   rates.AMD  rates.ANG  rates.AOA  ...  rates.XCD  \\\n",
       "0  72.307621   94.23912  389.571444   1.806663     834.06  ...    2.70255   \n",
       "\n",
       "   rates.XDR   rates.XOF  rates.XPD   rates.XPF  rates.XPT   rates.YER  \\\n",
       "0   0.762603  613.244531   0.001048  111.561487   0.001095  250.374948   \n",
       "\n",
       "   rates.ZAR  rates.ZMW  rates.ZWL  \n",
       "0   18.78012  26.565435        322  \n",
       "\n",
       "[1 rows x 173 columns]"
      ]
     },
     "execution_count": 4,
     "metadata": {},
     "output_type": "execute_result"
    }
   ],
   "source": [
    "import requests\n",
    "import pandas as pd\n",
    "response = requests.get('https://openexchangerates.org/api/latest.json',params={'app_id':'e0cad075ee51414f9a4b022abe9a09e2'})\n",
    "egp_dict=response.json()\n",
    "egp_df = pd.json_normalize(egp_dict)\n",
    "egp_df\n"
   ]
  },
  {
   "cell_type": "code",
   "execution_count": 7,
   "id": "d6242ea5",
   "metadata": {},
   "outputs": [],
   "source": [
    "selected_columns=['rates.EGP','timestamp']\n",
    "egp_df=egp_df[selected_columns]\n"
   ]
  },
  {
   "cell_type": "code",
   "execution_count": 8,
   "id": "c3a48e95",
   "metadata": {},
   "outputs": [
    {
     "data": {
      "text/html": [
       "<div>\n",
       "<style scoped>\n",
       "    .dataframe tbody tr th:only-of-type {\n",
       "        vertical-align: middle;\n",
       "    }\n",
       "\n",
       "    .dataframe tbody tr th {\n",
       "        vertical-align: top;\n",
       "    }\n",
       "\n",
       "    .dataframe thead th {\n",
       "        text-align: right;\n",
       "    }\n",
       "</style>\n",
       "<table border=\"1\" class=\"dataframe\">\n",
       "  <thead>\n",
       "    <tr style=\"text-align: right;\">\n",
       "      <th></th>\n",
       "      <th>rates.EGP</th>\n",
       "      <th>timestamp</th>\n",
       "    </tr>\n",
       "  </thead>\n",
       "  <tbody>\n",
       "    <tr>\n",
       "      <th>0</th>\n",
       "      <td>47.861515</td>\n",
       "      <td>1714320005</td>\n",
       "    </tr>\n",
       "  </tbody>\n",
       "</table>\n",
       "</div>"
      ],
      "text/plain": [
       "   rates.EGP   timestamp\n",
       "0  47.861515  1714320005"
      ]
     },
     "execution_count": 8,
     "metadata": {},
     "output_type": "execute_result"
    }
   ],
   "source": [
    "egp_df"
   ]
  },
  {
   "cell_type": "code",
   "execution_count": 9,
   "id": "17c9f3a9",
   "metadata": {},
   "outputs": [
    {
     "name": "stderr",
     "output_type": "stream",
     "text": [
      "/tmp/ipykernel_14805/566535074.py:1: SettingWithCopyWarning: \n",
      "A value is trying to be set on a copy of a slice from a DataFrame\n",
      "\n",
      "See the caveats in the documentation: https://pandas.pydata.org/pandas-docs/stable/user_guide/indexing.html#returning-a-view-versus-a-copy\n",
      "  egp_df.rename(columns={'rates.EGP': 'EGP'}, inplace=True)\n"
     ]
    }
   ],
   "source": [
    "egp_df.rename(columns={'rates.EGP': 'EGP'}, inplace=True)"
   ]
  },
  {
   "cell_type": "code",
   "execution_count": 10,
   "id": "7b258619",
   "metadata": {},
   "outputs": [
    {
     "data": {
      "text/html": [
       "<div>\n",
       "<style scoped>\n",
       "    .dataframe tbody tr th:only-of-type {\n",
       "        vertical-align: middle;\n",
       "    }\n",
       "\n",
       "    .dataframe tbody tr th {\n",
       "        vertical-align: top;\n",
       "    }\n",
       "\n",
       "    .dataframe thead th {\n",
       "        text-align: right;\n",
       "    }\n",
       "</style>\n",
       "<table border=\"1\" class=\"dataframe\">\n",
       "  <thead>\n",
       "    <tr style=\"text-align: right;\">\n",
       "      <th></th>\n",
       "      <th>EGP</th>\n",
       "      <th>timestamp</th>\n",
       "    </tr>\n",
       "  </thead>\n",
       "  <tbody>\n",
       "    <tr>\n",
       "      <th>0</th>\n",
       "      <td>47.861515</td>\n",
       "      <td>1714320005</td>\n",
       "    </tr>\n",
       "  </tbody>\n",
       "</table>\n",
       "</div>"
      ],
      "text/plain": [
       "         EGP   timestamp\n",
       "0  47.861515  1714320005"
      ]
     },
     "execution_count": 10,
     "metadata": {},
     "output_type": "execute_result"
    }
   ],
   "source": [
    "egp_df"
   ]
  },
  {
   "cell_type": "code",
   "execution_count": 11,
   "id": "0b89bf7d",
   "metadata": {},
   "outputs": [
    {
     "name": "stderr",
     "output_type": "stream",
     "text": [
      "/tmp/ipykernel_14805/4282987629.py:1: SettingWithCopyWarning: \n",
      "A value is trying to be set on a copy of a slice from a DataFrame.\n",
      "Try using .loc[row_indexer,col_indexer] = value instead\n",
      "\n",
      "See the caveats in the documentation: https://pandas.pydata.org/pandas-docs/stable/user_guide/indexing.html#returning-a-view-versus-a-copy\n",
      "  egp_df['timestamp'] = pd.to_datetime(egp_df['timestamp'], unit='s')\n"
     ]
    }
   ],
   "source": [
    "egp_df['timestamp'] = pd.to_datetime(egp_df['timestamp'], unit='s')"
   ]
  },
  {
   "cell_type": "code",
   "execution_count": 12,
   "id": "6ddf0409",
   "metadata": {},
   "outputs": [
    {
     "data": {
      "text/html": [
       "<div>\n",
       "<style scoped>\n",
       "    .dataframe tbody tr th:only-of-type {\n",
       "        vertical-align: middle;\n",
       "    }\n",
       "\n",
       "    .dataframe tbody tr th {\n",
       "        vertical-align: top;\n",
       "    }\n",
       "\n",
       "    .dataframe thead th {\n",
       "        text-align: right;\n",
       "    }\n",
       "</style>\n",
       "<table border=\"1\" class=\"dataframe\">\n",
       "  <thead>\n",
       "    <tr style=\"text-align: right;\">\n",
       "      <th></th>\n",
       "      <th>EGP</th>\n",
       "      <th>timestamp</th>\n",
       "    </tr>\n",
       "  </thead>\n",
       "  <tbody>\n",
       "    <tr>\n",
       "      <th>0</th>\n",
       "      <td>47.861515</td>\n",
       "      <td>2024-04-28 16:00:05</td>\n",
       "    </tr>\n",
       "  </tbody>\n",
       "</table>\n",
       "</div>"
      ],
      "text/plain": [
       "         EGP           timestamp\n",
       "0  47.861515 2024-04-28 16:00:05"
      ]
     },
     "execution_count": 12,
     "metadata": {},
     "output_type": "execute_result"
    }
   ],
   "source": [
    "egp_df"
   ]
  },
  {
   "cell_type": "code",
   "execution_count": 14,
   "id": "b606ba16",
   "metadata": {},
   "outputs": [
    {
     "name": "stderr",
     "output_type": "stream",
     "text": [
      "/tmp/ipykernel_14805/1339729107.py:2: SettingWithCopyWarning: \n",
      "A value is trying to be set on a copy of a slice from a DataFrame.\n",
      "Try using .loc[row_indexer,col_indexer] = value instead\n",
      "\n",
      "See the caveats in the documentation: https://pandas.pydata.org/pandas-docs/stable/user_guide/indexing.html#returning-a-view-versus-a-copy\n",
      "  egp_df['extract_time'] = datetime.now()\n",
      "/tmp/ipykernel_14805/1339729107.py:3: SettingWithCopyWarning: \n",
      "A value is trying to be set on a copy of a slice from a DataFrame.\n",
      "Try using .loc[row_indexer,col_indexer] = value instead\n",
      "\n",
      "See the caveats in the documentation: https://pandas.pydata.org/pandas-docs/stable/user_guide/indexing.html#returning-a-view-versus-a-copy\n",
      "  egp_df['source'] = 'api'\n"
     ]
    },
    {
     "data": {
      "text/html": [
       "<div>\n",
       "<style scoped>\n",
       "    .dataframe tbody tr th:only-of-type {\n",
       "        vertical-align: middle;\n",
       "    }\n",
       "\n",
       "    .dataframe tbody tr th {\n",
       "        vertical-align: top;\n",
       "    }\n",
       "\n",
       "    .dataframe thead th {\n",
       "        text-align: right;\n",
       "    }\n",
       "</style>\n",
       "<table border=\"1\" class=\"dataframe\">\n",
       "  <thead>\n",
       "    <tr style=\"text-align: right;\">\n",
       "      <th></th>\n",
       "      <th>EGP</th>\n",
       "      <th>timestamp</th>\n",
       "      <th>extract_time</th>\n",
       "      <th>source</th>\n",
       "    </tr>\n",
       "  </thead>\n",
       "  <tbody>\n",
       "    <tr>\n",
       "      <th>0</th>\n",
       "      <td>47.861515</td>\n",
       "      <td>2024-04-28 16:00:05</td>\n",
       "      <td>2024-04-28 22:42:48.412571</td>\n",
       "      <td>api</td>\n",
       "    </tr>\n",
       "  </tbody>\n",
       "</table>\n",
       "</div>"
      ],
      "text/plain": [
       "         EGP           timestamp               extract_time source\n",
       "0  47.861515 2024-04-28 16:00:05 2024-04-28 22:42:48.412571    api"
      ]
     },
     "execution_count": 14,
     "metadata": {},
     "output_type": "execute_result"
    }
   ],
   "source": [
    "from datetime import datetime\n",
    "egp_df['extract_time'] = datetime.now()\n",
    "egp_df['source'] = 'api'\n",
    "egp_df\n"
   ]
  },
  {
   "cell_type": "code",
   "execution_count": 16,
   "id": "b26c6d24",
   "metadata": {},
   "outputs": [],
   "source": [
    "egp_df.to_csv('../Landing/Exchange/exchange.csv', index=False)"
   ]
  },
  {
   "cell_type": "code",
   "execution_count": null,
   "id": "3d8c99b3",
   "metadata": {},
   "outputs": [],
   "source": []
  }
 ],
 "metadata": {
  "kernelspec": {
   "display_name": "Python 3 (ipykernel)",
   "language": "python",
   "name": "python3"
  },
  "language_info": {
   "codemirror_mode": {
    "name": "ipython",
    "version": 3
   },
   "file_extension": ".py",
   "mimetype": "text/x-python",
   "name": "python",
   "nbconvert_exporter": "python",
   "pygments_lexer": "ipython3",
   "version": "3.9.12"
  }
 },
 "nbformat": 4,
 "nbformat_minor": 5
}
