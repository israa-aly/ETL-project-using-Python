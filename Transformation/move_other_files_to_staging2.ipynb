{
 "cells": [
  {
   "cell_type": "code",
   "execution_count": 1,
   "id": "7afb9a67",
   "metadata": {},
   "outputs": [],
   "source": [
    "import pandas as pd \n",
    "def write_to_staging2(filename):\n",
    "    file=f'../Staging_1/{filename}/{filename}.csv'\n",
    "    df=pd.read_csv(f'{file}')\n",
    "    df.to_csv(f'../Staging_2/{filename}/{filename}.csv', index=False)\n"
   ]
  },
  {
   "cell_type": "code",
   "execution_count": 2,
   "id": "edb96601",
   "metadata": {},
   "outputs": [],
   "source": [
    "write_to_staging2('staffs')"
   ]
  },
  {
   "cell_type": "code",
   "execution_count": 3,
   "id": "0cd0df9b",
   "metadata": {},
   "outputs": [],
   "source": [
    "write_to_staging2('stores')"
   ]
  },
  {
   "cell_type": "code",
   "execution_count": 4,
   "id": "47df2141",
   "metadata": {},
   "outputs": [],
   "source": [
    "write_to_staging2('products')"
   ]
  },
  {
   "cell_type": "code",
   "execution_count": 5,
   "id": "b5f3aad0",
   "metadata": {},
   "outputs": [],
   "source": [
    "write_to_staging2('categories')"
   ]
  },
  {
   "cell_type": "code",
   "execution_count": 7,
   "id": "0bcc7b38",
   "metadata": {},
   "outputs": [],
   "source": [
    "write_to_staging2('brands')"
   ]
  },
  {
   "cell_type": "code",
   "execution_count": 6,
   "id": "2bcfe7dd",
   "metadata": {},
   "outputs": [],
   "source": [
    "write_to_staging2('stocks')"
   ]
  },
  {
   "cell_type": "code",
   "execution_count": 10,
   "id": "e4e7b506",
   "metadata": {},
   "outputs": [],
   "source": [
    "exchange=pd.read_csv('../Staging_1/Exchange/exchange.csv')\n",
    "exchange.to_csv('../Staging_2/Exchange/exchgange.csv', index=False)"
   ]
  },
  {
   "cell_type": "code",
   "execution_count": null,
   "id": "a63d58f2",
   "metadata": {},
   "outputs": [],
   "source": []
  }
 ],
 "metadata": {
  "kernelspec": {
   "display_name": "Python 3 (ipykernel)",
   "language": "python",
   "name": "python3"
  },
  "language_info": {
   "codemirror_mode": {
    "name": "ipython",
    "version": 3
   },
   "file_extension": ".py",
   "mimetype": "text/x-python",
   "name": "python",
   "nbconvert_exporter": "python",
   "pygments_lexer": "ipython3",
   "version": "3.9.12"
  }
 },
 "nbformat": 4,
 "nbformat_minor": 5
}
